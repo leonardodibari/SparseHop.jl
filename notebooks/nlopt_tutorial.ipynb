{
 "cells": [
  {
   "cell_type": "code",
   "execution_count": null,
   "id": "3d828009-1640-46bf-b266-91e70860b9b8",
   "metadata": {},
   "outputs": [],
   "source": [
    "using NLopt\n",
    "\n",
    "# Definizione della funzione da minimizzare con parametri costanti a e b\n",
    "function objective!(x::Vector, grad::Vector, a, b)\n",
    "    if length(grad) > 0\n",
    "        grad[1] = 2 * (x[1] - a)\n",
    "        grad[2] = 2 * (x[2] - b)\n",
    "    end\n",
    "    (x[1] - a)^2 + (x[2] - b)^2\n",
    "end\n",
    "\n",
    "\n",
    "function objective2!(x::Vector, grad::Vector, a, b)\n",
    "    grad[1] = 2 * (x[1] - a)\n",
    "    grad[2] = 2 * (x[2] - b)\n",
    "    (x[1] - a)^2 + (x[2] - b)^2\n",
    "end\n",
    "\n",
    "# Parametri costanti\n",
    "a = 2.0\n",
    "b = 3.0\n",
    "\n",
    "# Inizializzazione del problema di ottimizzazione\n",
    "opt = Opt(:LD_LBFGS, 2)  # Utilizziamo l'algoritmo L-BFGS\n",
    "xtol_rel!(opt, 1e-6)  # Tolleranza relativa per la convergenza\n",
    "\n",
    "min_objective!(opt, (x, grad) -> objective2!(x, grad, a, b))  # Definizione della funzione obiettivo con cl\n",
    "\n",
    "# Punto di partenza per l'ottimizzazione\n",
    "initial_x = [0.0, 0.0]\n",
    "\n",
    "# Esecuzione dell'ottimizzazione\n",
    "(minf, minx, ret) = optimize(opt, initial_x)\n",
    "\n",
    "println(\"Il valore minimo trovato è: $minf\")\n",
    "println(\"Il punto in cui si trova il minimo è: $minx\")\n",
    "println(\"Stato di ritorno dell'ottimizzazione: $ret\")\n"
   ]
  },
  {
   "cell_type": "code",
   "execution_count": null,
   "id": "245ecc9b-68a7-46ec-8599-247e9f8efbe1",
   "metadata": {},
   "outputs": [],
   "source": [
    "using Statistics\n",
    "include(\"../minimization/minimization.jl\")\n",
    "m = Minimization\n",
    "p1=m.read_param(\"../minimization/pars_for_andrea.jld2\", lambda=0.001);\n",
    "p2=SparseHop.read_param(\"../minimization/pars_for_andrea.jld2\", lambda=0.001);\n",
    "res1=m.optimize(p1,show_trace=false);\n",
    "res2=SparseHop.optimize(p2,show_trace=false);\n",
    "\n",
    "cor(res1.minimizer, res2.minimizer)\n",
    "\n",
    "TT = Float64; p3 = SparseHop.ConstPara(TT.(p2.enu), TT.(p2.fmn), TT.(p2.Pmn), 0.001);\n",
    "opt, res3 = SparseHop.optimize_nlopt(p3)\n",
    "\n",
    "\n",
    "TT = Float64; p64 = SparseHop.ConstPara(TT.(p32.enu), TT.(p32.fmn), TT.(p32.Pmn), 0.002);"
   ]
  }
 ],
 "metadata": {
  "kernelspec": {
   "display_name": "Julia 1.10.0",
   "language": "julia",
   "name": "julia-1.10"
  },
  "language_info": {
   "file_extension": ".jl",
   "mimetype": "application/julia",
   "name": "julia",
   "version": "1.10.0"
  }
 },
 "nbformat": 4,
 "nbformat_minor": 5
}
