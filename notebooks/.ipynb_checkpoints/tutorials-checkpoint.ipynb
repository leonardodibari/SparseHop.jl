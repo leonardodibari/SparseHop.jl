{
 "cells": [
  {
   "cell_type": "code",
   "execution_count": null,
   "id": "8c238bd8-f11b-43c5-b457-d89d2940b477",
   "metadata": {},
   "outputs": [],
   "source": [
    "using Revise, SparseHop, BenchmarkTools, PyPlot, JLD2; @load \"data/eigvec_miyazawa_J.jld2\";\n",
    "\n",
    "#msa_file is the path of the alignment\n",
    "#struct_file is the path of the structure\n",
    "\n",
    "f = 14; @time m = parallel_MCMC(V,\n",
    "    msa_file = seq_paths_dict[f],\n",
    "    structfile = structs_dict[f],\n",
    "    N_chains = 100,\n",
    "    N_iter = 10, \n",
    "    grad_iter = 5, \n",
    "    each_step = 1,\n",
    "    sweeps = 5, \n",
    "    learn_r = 0.005,  \n",
    "    n_edges = 1, \n",
    "    reg = 0.005);\n",
    "\n",
    "f = 14; @time m = parallel_MCMC(V[:,:,sortperm(abs.(l))[1:5]],\n",
    "    msa_file = seq_paths_dict[f],\n",
    "    structfile = structs_dict[f],\n",
    "    N_chains = 1000,\n",
    "    N_iter = 10, \n",
    "    grad_iter = 5,\n",
    "    each_step = 1,\n",
    "    sweeps = 5, \n",
    "    learn_r = 0.005, \n",
    "    n_edges = 1, \n",
    "    reg = 0.005);\n",
    "\n",
    "\n"
   ]
  },
  {
   "cell_type": "code",
   "execution_count": 2,
   "id": "fd7438ab-b835-4ddf-81d5-81ed03b104d4",
   "metadata": {
    "collapsed": true,
    "jupyter": {
     "outputs_hidden": true
    },
    "tags": []
   },
   "outputs": [
    {
     "ename": "LoadError",
     "evalue": "UndefVarError: `NumSolVar` not defined",
     "output_type": "error",
     "traceback": [
      "UndefVarError: `NumSolVar` not defined",
      "",
      "Stacktrace:",
      " [1] (::var\"#1#2\")(head::Int64)",
      "   @ Main ./none:0",
      " [2] iterate",
      "   @ ./generator.jl:47 [inlined]",
      " [3] collect(itr::Base.Generator{UnitRange{Int64}, var\"#1#2\"})",
      "   @ Base ./array.jl:834",
      " [4] top-level scope",
      "   @ In[2]:1"
     ]
    }
   ],
   "source": [
    "L = 53; H = 21; str = [NumSolVar(Float32) for head in 1:H]; q = 21; reg = Float32.(0.005); x_r = zeros(L,L,H); y_r = zeros(size(x_r\n",
    "                      )); dL = zeros(size(x_r)); @time for i in 1:L\n",
    "                              for j in 1:L   if j !== i for head in 1:H                 \n",
    "                bisection!(x_r, y_r, dL, str[head], m.cost[i,j,head], m.f2, V, i, j, head, reg, q)\n",
    "            end  end end  end\n",
    "\n",
    "close(\"all\"); scatter(x_r[:],y_r[:], label =\"k vs y_k\"); plt.legend(); savefig(\"../Kvsy_Kreg$(reg).png\");\n",
    "close(\"all\"); scatter(x_r[:],dL[:], label =\"k vs dL\"); plt.legend(); savefig(\"../KvsdLreg$(reg).png\");"
   ]
  },
  {
   "cell_type": "code",
   "execution_count": null,
   "id": "f3447792-f51e-4831-8577-17cc4ced37da",
   "metadata": {},
   "outputs": [],
   "source": [
    "n_points = 2000; acc = 0.01; reg = Float32.(0.1); i = 17; j = 41; head =15;L = 53; H = 21; T = Float32; stra = NumSolVar(Float32); strb = NumSolVar(Float32\n",
    "    ); q = 21; ks = []; y_k = [];  dLs=[];  stra.k[1] = -0.28 -n_points*acc/2; for n in 1:n_points\n",
    "    zero_eq!(stra, 1, m.cost[i,j,head], m.f2, V, i, j, head, reg, q)\n",
    "    push!(ks, stra.k[1])\n",
    "    push!(y_k, stra.dest[1])\n",
    "    push!(dLs, dlog(m.f2, m.Df2, stra.k[1], V, i, j, head, reg, q));\n",
    "    stra.k[1] += acc\n",
    "end\n",
    "\n",
    "x_r = T.(zeros(L,L,H)); y_r = T.(zeros(size(x_r))); dL = T.(zeros(size(x_r))); new_kmheads = T.(zeros(size(x_r))); \n",
    "\n",
    "bisection!(x_r, y_r, strb, m.cost[i,j,head], m.f2, V, i, j, head, reg, q); \n",
    "\n",
    "dL[i,j,head] = dlog(m.f2, m.Df2, x_r[i,j,head], V, i, j, head, reg, q);\n",
    "println(\"Bisec Opt k: $(x_r[i,j,head]) Opt y: $(y_r[i,j,head]) Opt dL: $(dL[i,j,head])\"); \n",
    "println(\"Trial Opt k: $(ks[argmax(dLs)]) Opt y: $(y_k[argmax(dLs)]) Opt dL: $(maximum(dLs))\"); \n",
    "close(\"all\"); plt.scatter(ks[:],y_k[:], label =\"k vs y_k\"); plt.legend(); \n",
    "plt.plot([ks[argmin(abs.(y_k))], ks[argmin(abs.(y_k))]], [minimum(dLs), maximum(dLs)]); #savefig(\"../Kvsy_K_single_$(reg).png\"); \n",
    "plt.scatter(ks[:],dLs[:], label =\"k vs dL\"); plt.legend(); savefig(\"../KvsdL_single$(reg).png\");\n",
    "\n"
   ]
  },
  {
   "cell_type": "code",
   "execution_count": null,
   "id": "47a57ab7-65ec-416c-b4d3-ae49168efa38",
   "metadata": {},
   "outputs": [],
   "source": [
    "#verify allocations in edge_activation\n",
    "L = 53; H = 21; str = [NumSolVar(Float32) for head in 1:H]; q = 21; reg = Float32.(0.005); x_r = Float32.(zeros(L,L,H)); y_r = Float32.(zeros(size(x_r\n",
    "                      ))); dL = Float32.(zeros(size(x_r))); i = 3; j = 10; head = 3; \n",
    "@btime bisection!($x_r, $y_r, $(str[head]), $(m.cost[i,j,head]), $m.f2, $V, $i, $j, $head, $reg, $q)\n",
    "@btime zero_eq!($(str[head]), $3, $(m.cost[i,j,head]), $m.f2, $V, $i, $j, $head, $reg, $q)\n",
    "@btime dlog($m.f2, $m.Df2, $(m.K[i,j,head]), $V, $i, $j, $head, $reg, $q)\n",
    "@code_warntype bisection!(x_r, y_r, dL, str[head], m.cost[i,j,head], m.f2, V, i, j, head, reg, q)\n",
    "@code_warntype zero_eq!(str[head], 3, m.cost[i,j,head], m.f2, V, i, j, head, reg, q)\n",
    "@code_warntype dlog(m.f2, m.Df2, m.K[i,j,head], V, i, j, head, reg, q)\n"
   ]
  },
  {
   "cell_type": "code",
   "execution_count": null,
   "id": "5f2ff32b-7c2f-47f8-a3fc-a55c6ba0d21b",
   "metadata": {},
   "outputs": [],
   "source": [
    "#verify allocations in gibbs_sampling\n",
    "sweeps = 5; J = get_J(m.K, V); L = 53; sweeps = 5;\n",
    "@btime gibbs_sampling!($(m.C[1]), $m.h, $J, $L, $(m.g[1]), $sweeps)\n",
    "@code_warntype gibbs_sampling!(m.C[1], m.h, J, L, m.g[1], sweeps)"
   ]
  },
  {
   "cell_type": "code",
   "execution_count": null,
   "id": "deba7123-fb34-429c-9d9b-b79bdd6bf14d",
   "metadata": {},
   "outputs": [],
   "source": [
    "f = 14; @time m = parallel_MCMC(V,\n",
    "           msa_file = seq_paths_dict[f],\n",
    "           structfile = structs_dict[f],\n",
    "           N_chains = 100000,\n",
    "           N_iter = 40, \n",
    "           grad_iter = 10, \n",
    "           each_step = 1,\n",
    "           sweeps = 5, \n",
    "           learn_r = 0.5, \n",
    "           lambda = 0.001, \n",
    "           n_edges = 1, approx = false, reg = 0.005, grad_upd = true, opt_k = false);\n",
    "\n",
    "\n",
    "f = 14; @time m = parallel_MCMC(V,\n",
    "           msa_file = seq_paths_dict[f],\n",
    "           structfile = structs_dict[f],\n",
    "           N_chains = 100000,\n",
    "           N_iter = 40, \n",
    "           grad_iter = 10, \n",
    "           each_step = 1,\n",
    "           sweeps = 5, \n",
    "           learn_r = 0.5, \n",
    "           lambda = 0.001, \n",
    "           n_edges = 1, approx = false, reg = 0.005, grad_upd = true, opt_k = true);"
   ]
  }
 ],
 "metadata": {
  "kernelspec": {
   "display_name": "Julia 1.10.0",
   "language": "julia",
   "name": "julia-1.10"
  },
  "language_info": {
   "file_extension": ".jl",
   "mimetype": "application/julia",
   "name": "julia",
   "version": "1.10.0"
  }
 },
 "nbformat": 4,
 "nbformat_minor": 5
}
