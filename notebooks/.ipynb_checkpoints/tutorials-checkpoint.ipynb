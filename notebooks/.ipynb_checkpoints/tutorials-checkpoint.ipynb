{
 "cells": [
  {
   "cell_type": "code",
   "execution_count": null,
   "id": "4adaf7d1-d6e1-4f95-855b-fc46e04e89b9",
   "metadata": {},
   "outputs": [],
   "source": [
    " L = 53;  H = 20; x_r = zeros(L,L,H); x_a = zeros(size(x_r)); y_r = zeros(size(x_r\n",
    "        )); y_a = zeros(size(x_r)); dx = zeros(size(x_r)); dy =zeros(size(x_r)); start = time(); @tasks for h in 1:H \n",
    "    for i in 1:L for j in i+1:L \n",
    "            x_r[i,j,h], y_r[i,j,h] = SparseHop.bisection(SparseHop.pseudocount2(m.Df2[:,i,:,j], pc = 0.01), m.f2[:,i,:,j], V[:,:,h]);  \n",
    "            #x_a[i,j,h], y_a[i,j,h] = SparseHop.small_k(SparseHop.pseudocount2(m.Df2[:,i,:,j], pc = 0.01), m.f2[:,i,:,j], V[:,:,h]); \n",
    "            #dx = (x_r .- x_a) ; dy = (y_r .- y_a) ; \n",
    "        end end end; fine = time(); println(fine-start); "
   ]
  },
  {
   "cell_type": "code",
   "execution_count": null,
   "id": "66bf18c8-1f8c-435b-b54f-d512193aa2f7",
   "metadata": {},
   "outputs": [],
   "source": [
    "start = time(); reg = 0.00001; L = 53;  H = 21; x_r = zeros(L,L,H); x_a = zeros(size(x_r)); y_r = zeros(size(x_r\n",
    "        )); y_a = zeros(size(x_r)); dx = zeros(size(x_r)); dy =zeros(size(x_r)); dL_a = zeros(L,\n",
    "    L,H); dL_r = zeros(L,L,H); @tasks for i in 1:L \n",
    "    for h in 1:H\n",
    "        for j in i+1:L \n",
    "            x_r[i,j,h], y_r[i,j,h] = SparseHop.bisection(m.Df2[:,i,:,j], m.f2[:,i,:,j], V[:,:,h], reg = reg);  \n",
    "            x_a[i,j,h], y_a[i,j,h] = SparseHop.small_k(m.Df2[:,i,:,j], m.f2[:,i,:,j], V[:,:,h], reg = reg);\n",
    "            x_a[i,j,h], dL_a[i,j,h] = SparseHop.dlog_small_k(m.Df2[:,i,:,j], m.f2[:,i,:,j], V[:,:,h], reg = reg);\n",
    "            dL_r[i,j,h] = SparseHop.dlog(m.Df2[:,i,:,j], m.f2[:,i,:,j], x_r[i,j,h], V[:,:,h],reg = reg);\n",
    "        end end end; dx = (x_r .- x_a) ; dy = (y_r .- y_a) ; fine = time(); println(fine-start); \n",
    "\n",
    "close(\"all\");plt.scatter(dL_r[:], dL_a[:], label = \"dLog\"); plt.xlabel(\n",
    "    \"bisection\");plt.ylabel(\"small_K\"); plt.legend(); savefig(\"../2methodslog$(reg).png\")\n",
    "\n",
    "close(\"all\"); plt.scatter(x_a[:], y_a[:], label = \"small K\"); plt.scatter(x_r[:], y_r[:], \n",
    "    label = \"bisection\"); plt.xlabel(\"K\");plt.ylabel(\"0 equation\"); plt.legend(); savefig(\"../2methods$(reg).png\")\n",
    "\n",
    "close(\"all\"); plt.scatter(x_r[:], x_a[:], label = \"K\"); plt.xlabel(\"bisection\");plt.ylabel(\n",
    "    \"small_K\"); plt.legend(); savefig(\"../2methodsx$(reg).png\")\n",
    "\n",
    "close(\"all\");plt.scatter(y_r[:], y_a[:], label = \"0 equation\"); plt.xlabel(\n",
    "    \"bisection\");plt.ylabel(\"small_K\"); plt.legend(); savefig(\"../2methodsy$(reg).png\")\n",
    "\n",
    "close(\"all\"); plt.scatter(x_a[:], dL_a[:], label = \"small K\"); plt.scatter(x_r[:], dL_r[:], \n",
    "    label = \"bisection\"); plt.xlabel(\"K\");plt.ylabel(\"dLog\"); plt.legend(); savefig(\"../2methodsKvsLog$(reg).png\")\n",
    "\n",
    "\n",
    "\n"
   ]
  },
  {
   "cell_type": "code",
   "execution_count": null,
   "id": "b9c45a11-3646-430e-b80f-6968679578a5",
   "metadata": {},
   "outputs": [],
   "source": [
    "\n",
    "\n"
   ]
  },
  {
   "cell_type": "code",
   "execution_count": null,
   "id": "8c238bd8-f11b-43c5-b457-d89d2940b477",
   "metadata": {},
   "outputs": [],
   "source": [
    "using Revise, SparseHop, JLD2; @load \"data/eigvec_miyazawa_J.jld2\";\n",
    "\n",
    "#msa_file is the path of the alignment\n",
    "#struct_file is the path of the structure\n",
    "\n",
    "f = 14; @time m = parallel_MCMC(V,\n",
    "    msa_file = seq_paths_dict[f],\n",
    "    structfile = structs_dict[f],\n",
    "    N_chains = 8000,\n",
    "    N_iter = 10, \n",
    "    each_step = 1,\n",
    "    sweeps = 5, \n",
    "    learn_r = 0.005, \n",
    "    lambda = 0.001, \n",
    "    n_edges = 1);\n",
    "\n",
    "\n"
   ]
  }
 ],
 "metadata": {
  "kernelspec": {
   "display_name": "Julia 1.10.0",
   "language": "julia",
   "name": "julia-1.10"
  },
  "language_info": {
   "file_extension": ".jl",
   "mimetype": "application/julia",
   "name": "julia",
   "version": "1.10.0"
  }
 },
 "nbformat": 4,
 "nbformat_minor": 5
}
