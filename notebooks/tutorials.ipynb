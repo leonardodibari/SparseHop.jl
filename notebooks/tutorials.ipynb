{
 "cells": [
  {
   "cell_type": "code",
   "execution_count": null,
   "id": "f56c43cb-c40b-4337-ae6b-4254550ec078",
   "metadata": {},
   "outputs": [],
   "source": [
    "# Assuming your 3D array is named `array`\n",
    "array = rand(10, 10, 10)  # Example 3D array, replace this with your array\n",
    "\n",
    "# Get the size of the array\n",
    "dims = size(array)\n",
    "\n",
    "# Initialize an empty array to store the indices\n",
    "indices = []\n",
    "\n",
    "# Loop through the linear indices of the first 30 elements\n",
    "for ind in 1:30\n",
    "    # Convert linear index to subscripts manually\n",
    "    k = div(ind - 1, dims[1] * dims[2]) + 1\n",
    "    j = div(ind - 1 - (k - 1) * dims[1] * dims[2], dims[1]) + 1\n",
    "    i = ind - (k - 1) * dims[1] * dims[2] - (j - 1) * dims[1]\n",
    "    push!(indices, (i, j, k))\n",
    "end\n",
    "\n",
    "# Print the indices\n",
    "for (i, sub) in enumerate(indices)\n",
    "    println(\"Index $i: \", sub)\n",
    "end\n"
   ]
  },
  {
   "cell_type": "code",
   "execution_count": null,
   "id": "20dbb7ed-2bcd-440c-a4d4-8fd9f3143aa6",
   "metadata": {},
   "outputs": [],
   "source": [
    "\n",
    "function find_max_n(matr; n_edges = 30)\n",
    "    res = []\n",
    "    A = deepcopy(matr)\n",
    "    for i in 1:n_edges\n",
    "        idxs = argmax(A)\n",
    "        push!(res, idxs)\n",
    "        A[idxs[1], idxs[2], idxs[3]] = 0\n",
    "        A[idxs[2], idxs[1], idxs[3]] = 0\n",
    "    end\n",
    "    return res\n",
    "end\n",
    "\n",
    "AA = rand(10, 10, 10); A = AA .+ permutedims(AA, [2,1,3]); @btime res = find_max_n(A);for x in res\n",
    "    println(x)\n",
    "    println(A[x[1], x[2], x[3]])\n",
    "end\n",
    "        \n",
    "    "
   ]
  },
  {
   "cell_type": "code",
   "execution_count": null,
   "id": "8c238bd8-f11b-43c5-b457-d89d2940b477",
   "metadata": {},
   "outputs": [],
   "source": [
    "f = 14; N_chains = 1000; N_iter = 50; H = 21; rng = random_gens(N_chains); Z_fam = quickread(\n",
    "    seq_paths_dict[f])[1]; chains = [Chain(Z_fam[:,1],rng[n]) for n in 1:N_chains]; KK = Float32.(\n",
    "    zeros(size(Z_fam,1), size(Z_fam,1), H)); @time m = parallel_MCMC(chains, KK, V, Z_fam, \n",
    "    structfile = structs_dict[f], N_iter = N_iter, each_step = 5,sweeps = 1, \n",
    "    learn_r = 0.5, lambda = 0.001, n_edges = 30);\n",
    "\n",
    "\n"
   ]
  }
 ],
 "metadata": {
  "kernelspec": {
   "display_name": "Julia 1.10.0",
   "language": "julia",
   "name": "julia-1.10"
  },
  "language_info": {
   "file_extension": ".jl",
   "mimetype": "application/julia",
   "name": "julia",
   "version": "1.10.0"
  }
 },
 "nbformat": 4,
 "nbformat_minor": 5
}
