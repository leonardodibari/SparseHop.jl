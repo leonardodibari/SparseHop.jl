{
 "cells": [
  {
   "cell_type": "code",
   "execution_count": null,
   "id": "a1cf9d51-b590-4cf3-a0f7-89dd769d06cb",
   "metadata": {},
   "outputs": [],
   "source": [
    "using Revise, SparseHop, BenchmarkTools, PyPlot, JLD2; @load \"data/eigvec_miyazawa_J.jld2\";\n",
    "\n",
    "#msa_file is the path of the alignment\n",
    "#struct_file is the path of the structure\n",
    "\n",
    "\n",
    "f = 14; @time m = runSparseHop(V; \n",
    "        msa_file = seq_paths_dict[f], \n",
    "        structfile = structs_dict[f], \n",
    "        N_chains = 100000, \n",
    "        N_iter = 100, \n",
    "        grad_iter = 1, \n",
    "        sweeps = 10, \n",
    "        learn_r = 1e-2, \n",
    "        each_step = 1, \n",
    "        pc = 0, \n",
    "        n_edges = 10, \n",
    "        reg = 1e-2, \n",
    "        avoid_upd = false, \n",
    "        verbose = true, \n",
    "        opt_k = true, \n",
    "        grad_upd = true);\n",
    "\n",
    "f = 14; @time m = runSparseHop(mod, V; \n",
    "        msa_file = seq_paths_dict[f], \n",
    "        structfile = structs_dict[f],  \n",
    "        N_iter = 1, \n",
    "        grad_iter = 0, \n",
    "        sweeps = 10, \n",
    "        learn_r = 1e-2, \n",
    "        each_step = 1, \n",
    "        n_edges = 1,\n",
    "        avoid_upd = false, \n",
    "        verbose = true, \n",
    "        opt_k = true, \n",
    "        grad_upd = false);\n"
   ]
  },
  {
   "cell_type": "code",
   "execution_count": null,
   "id": "87a52b91-8de0-4390-8e69-a06517e1e0d2",
   "metadata": {},
   "outputs": [],
   "source": [
    "#continue from a model, but just on K\n",
    "f = 595; @time mm = new_runSparseHop(m; \n",
    "               msa_file = seq_paths_dict[f], \n",
    "               structfile = structs_dict[f], \n",
    "               N_iter = 3000, \n",
    "               grad_iter = 5, \n",
    "               sweeps = 5,\n",
    "               learn_r = 1e-1, \n",
    "               each_step = 50,\n",
    "               n_edges = 1, \n",
    "               avoid_upd = false, \n",
    "               verbose = false, \n",
    "               opt_k = true, \n",
    "               grad_upd = true, savepars=false);"
   ]
  },
  {
   "cell_type": "code",
   "execution_count": null,
   "id": "223a423d-d94e-4294-ada3-ca949a9d7d4d",
   "metadata": {},
   "outputs": [],
   "source": [
    "#continue from a model but just on V\n",
    "f = 14; @time mm = new_runSparseHop_onV(m, V64; \n",
    "               msa_file = seq_paths_dict[f], \n",
    "               structfile = structs_dict[f], \n",
    "               N_iter = 10,  \n",
    "               sweeps = 5,\n",
    "               learn_r = 1e-1, \n",
    "               each_step = 1);"
   ]
  }
 ],
 "metadata": {
  "kernelspec": {
   "display_name": "Julia 1.10.0",
   "language": "julia",
   "name": "julia-1.10"
  },
  "language_info": {
   "file_extension": ".jl",
   "mimetype": "application/julia",
   "name": "julia",
   "version": "1.10.0"
  }
 },
 "nbformat": 4,
 "nbformat_minor": 5
}
